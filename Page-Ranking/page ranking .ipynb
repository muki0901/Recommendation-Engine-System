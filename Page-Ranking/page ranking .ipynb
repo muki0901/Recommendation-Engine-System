{
 "cells": [
  {
   "cell_type": "code",
   "execution_count": 1,
   "id": "f6e67c79",
   "metadata": {},
   "outputs": [],
   "source": [
    "import numpy as np\n",
    "import pandas as pd"
   ]
  },
  {
   "cell_type": "code",
   "execution_count": 3,
   "id": "de82509d",
   "metadata": {},
   "outputs": [],
   "source": [
    "# Load the Netflix dataset\n",
    "netflix_df = pd.read_csv(\"C:/Users/Dell/Downloads/netflix_titles.csv\")"
   ]
  },
  {
   "cell_type": "code",
   "execution_count": 4,
   "id": "2f40577e",
   "metadata": {},
   "outputs": [],
   "source": [
    "# Create a dictionary to map the titles to their IDs\n",
    "titles = netflix_df[\"title\"].unique()\n",
    "id_to_title = dict(enumerate(titles))\n",
    "title_to_id = {v: k for k, v in id_to_title.items()}"
   ]
  },
  {
   "cell_type": "code",
   "execution_count": null,
   "id": "04a801fe",
   "metadata": {},
   "outputs": [],
   "source": [
    "# Create a dictionary to map the IDs to their adjacency lists\n",
    "id_to_adjlist = {}\n",
    "for i in range(len(titles)):\n",
    "    adjlist = []\n",
    "    for j in range(len(titles)):\n",
    "        if i != j and netflix_df.iloc[i][\"type\"] == netflix_df.iloc[j][\"type\"]:\n",
    "            # Add an edge if the two titles have the same type (TV Show or Movie)\n",
    "            adjlist.append(j)\n",
    "    id_to_adjlist[i] = adjlist"
   ]
  },
  {
   "cell_type": "code",
   "execution_count": null,
   "id": "7d044b53",
   "metadata": {},
   "outputs": [],
   "source": [
    "# Set the initial PageRank values to 1/N\n",
    "N = len(titles)\n",
    "pagerank = np.ones(N) / N"
   ]
  },
  {
   "cell_type": "code",
   "execution_count": null,
   "id": "8ee99a97",
   "metadata": {},
   "outputs": [],
   "source": [
    "# Set the damping factor to 0.85\n",
    "damping_factor = 0.85\n",
    "\n",
    "# Perform the PageRank algorithm\n",
    "for i in range(100):\n",
    "    new_pagerank = np.zeros(N)\n",
    "    for j in range(N):\n",
    "        for k in id_to_adjlist[j]:\n",
    "            # Update the PageRank value for each neighbor\n",
    "            new_pagerank[k] += damping_factor * pagerank[j] / len(id_to_adjlist[j])\n",
    "    # Apply the damping factor and add the teleportation component\n",
    "    pagerank = (1 - damping_factor) / N + new_pagerank"
   ]
  },
  {
   "cell_type": "code",
   "execution_count": null,
   "id": "11a2f08f",
   "metadata": {},
   "outputs": [],
   "source": [
    "# Sort the titles by their PageRank values in descending order\n",
    "sorted_indices = np.argsort(pagerank)[::-1]\n",
    "for i in range(10):\n",
    "    print(id_to_title[sorted_indices[i]])"
   ]
  },
  {
   "cell_type": "code",
   "execution_count": null,
   "id": "8f3e716e",
   "metadata": {},
   "outputs": [],
   "source": []
  }
 ],
 "metadata": {
  "kernelspec": {
   "display_name": "Python 3 (ipykernel)",
   "language": "python",
   "name": "python3"
  },
  "language_info": {
   "codemirror_mode": {
    "name": "ipython",
    "version": 3
   },
   "file_extension": ".py",
   "mimetype": "text/x-python",
   "name": "python",
   "nbconvert_exporter": "python",
   "pygments_lexer": "ipython3",
   "version": "3.10.9"
  }
 },
 "nbformat": 4,
 "nbformat_minor": 5
}
