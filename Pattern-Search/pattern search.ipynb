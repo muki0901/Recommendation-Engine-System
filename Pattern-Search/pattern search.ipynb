{
 "cells": [
  {
   "cell_type": "code",
   "execution_count": 1,
   "id": "6fc8492a",
   "metadata": {},
   "outputs": [],
   "source": [
    "import pandas as pd\n",
    "\n",
    "# Load the Netflix dataset\n",
    "netflix_df = pd.read_csv(\"C:/Users/Dell/Downloads/netflix_titles.csv\")"
   ]
  },
  {
   "cell_type": "code",
   "execution_count": 2,
   "id": "ae4292a7",
   "metadata": {},
   "outputs": [],
   "source": [
    "# Drop any rows with missing values\n",
    "netflix_df.dropna(inplace=True)\n",
    "\n",
    "# Convert categorical data into numerical values\n",
    "netflix_df[\"type\"] = netflix_df[\"type\"].map({\"TV Show\": 0, \"Movie\": 1})"
   ]
  },
  {
   "cell_type": "code",
   "execution_count": 3,
   "id": "2add015b",
   "metadata": {},
   "outputs": [
    {
     "name": "stdout",
     "output_type": "stream",
     "text": [
      "Requirement already satisfied: mlxtend in c:\\users\\dell\\anaconda3\\lib\\site-packages (0.22.0)\n",
      "Requirement already satisfied: scikit-learn>=1.0.2 in c:\\users\\dell\\anaconda3\\lib\\site-packages (from mlxtend) (1.2.1)\n",
      "Requirement already satisfied: matplotlib>=3.0.0 in c:\\users\\dell\\anaconda3\\lib\\site-packages (from mlxtend) (3.7.0)\n",
      "Requirement already satisfied: scipy>=1.2.1 in c:\\users\\dell\\anaconda3\\lib\\site-packages (from mlxtend) (1.10.0)\n",
      "Requirement already satisfied: pandas>=0.24.2 in c:\\users\\dell\\anaconda3\\lib\\site-packages (from mlxtend) (1.5.3)\n",
      "Requirement already satisfied: setuptools in c:\\users\\dell\\anaconda3\\lib\\site-packages (from mlxtend) (65.6.3)\n",
      "Requirement already satisfied: numpy>=1.16.2 in c:\\users\\dell\\anaconda3\\lib\\site-packages (from mlxtend) (1.23.5)\n",
      "Requirement already satisfied: joblib>=0.13.2 in c:\\users\\dell\\anaconda3\\lib\\site-packages (from mlxtend) (1.1.1)\n",
      "Requirement already satisfied: fonttools>=4.22.0 in c:\\users\\dell\\anaconda3\\lib\\site-packages (from matplotlib>=3.0.0->mlxtend) (4.25.0)\n",
      "Requirement already satisfied: cycler>=0.10 in c:\\users\\dell\\anaconda3\\lib\\site-packages (from matplotlib>=3.0.0->mlxtend) (0.11.0)\n",
      "Requirement already satisfied: python-dateutil>=2.7 in c:\\users\\dell\\anaconda3\\lib\\site-packages (from matplotlib>=3.0.0->mlxtend) (2.8.2)\n",
      "Requirement already satisfied: contourpy>=1.0.1 in c:\\users\\dell\\anaconda3\\lib\\site-packages (from matplotlib>=3.0.0->mlxtend) (1.0.5)\n",
      "Requirement already satisfied: pillow>=6.2.0 in c:\\users\\dell\\anaconda3\\lib\\site-packages (from matplotlib>=3.0.0->mlxtend) (9.4.0)\n",
      "Requirement already satisfied: pyparsing>=2.3.1 in c:\\users\\dell\\anaconda3\\lib\\site-packages (from matplotlib>=3.0.0->mlxtend) (3.0.9)\n",
      "Requirement already satisfied: kiwisolver>=1.0.1 in c:\\users\\dell\\anaconda3\\lib\\site-packages (from matplotlib>=3.0.0->mlxtend) (1.4.4)\n",
      "Requirement already satisfied: packaging>=20.0 in c:\\users\\dell\\anaconda3\\lib\\site-packages (from matplotlib>=3.0.0->mlxtend) (22.0)\n",
      "Requirement already satisfied: pytz>=2020.1 in c:\\users\\dell\\anaconda3\\lib\\site-packages (from pandas>=0.24.2->mlxtend) (2022.7)\n",
      "Requirement already satisfied: threadpoolctl>=2.0.0 in c:\\users\\dell\\anaconda3\\lib\\site-packages (from scikit-learn>=1.0.2->mlxtend) (2.2.0)\n",
      "Requirement already satisfied: six>=1.5 in c:\\users\\dell\\anaconda3\\lib\\site-packages (from python-dateutil>=2.7->matplotlib>=3.0.0->mlxtend) (1.16.0)\n"
     ]
    },
    {
     "name": "stderr",
     "output_type": "stream",
     "text": [
      "C:\\Users\\Dell\\anaconda3\\lib\\site-packages\\mlxtend\\frequent_patterns\\fpcommon.py:110: DeprecationWarning: DataFrames with non-bool types result in worse computationalperformance and their support might be discontinued in the future.Please use a DataFrame with bool type\n",
      "  warnings.warn(\n"
     ]
    }
   ],
   "source": [
    "!pip install mlxtend\n",
    "\n",
    "from mlxtend.frequent_patterns import apriori\n",
    "from mlxtend.frequent_patterns import association_rules\n",
    "\n",
    "# Convert the dataset into a one-hot encoded format\n",
    "one_hot_netflix = pd.get_dummies(netflix_df[['type', 'rating', 'listed_in']], prefix='', prefix_sep='')\n",
    "\n",
    "# Generate frequent itemsets using the Apriori algorithm\n",
    "frequent_itemsets = apriori(one_hot_netflix, min_support=0.01, use_colnames=True)\n",
    "\n",
    "# Generate association rules from the frequent itemsets\n",
    "rules = association_rules(frequent_itemsets, metric=\"lift\", min_threshold=1)"
   ]
  },
  {
   "cell_type": "code",
   "execution_count": 4,
   "id": "b5594e28",
   "metadata": {},
   "outputs": [
    {
     "name": "stdout",
     "output_type": "stream",
     "text": [
      "                                   antecedents  \\\n",
      "63        (Children & Family Movies, Comedies)   \n",
      "62                                        (PG)   \n",
      "88                                  (type, PG)   \n",
      "89  (type, Children & Family Movies, Comedies)   \n",
      "92                                        (PG)   \n",
      "93        (Children & Family Movies, Comedies)   \n",
      "64                                         (R)   \n",
      "65                        (Action & Adventure)   \n",
      "94                                   (R, type)   \n",
      "96                  (type, Action & Adventure)   \n",
      "\n",
      "                                   consequents  antecedent support  \\\n",
      "63                                        (PG)            0.033571   \n",
      "62        (Children & Family Movies, Comedies)            0.051575   \n",
      "88        (Children & Family Movies, Comedies)            0.051575   \n",
      "89                                        (PG)            0.033571   \n",
      "92  (type, Children & Family Movies, Comedies)            0.051575   \n",
      "93                                  (type, PG)            0.033571   \n",
      "64                        (Action & Adventure)            0.145911   \n",
      "65                                         (R)            0.023818   \n",
      "94                        (Action & Adventure)            0.145911   \n",
      "96                                         (R)            0.023818   \n",
      "\n",
      "    consequent support   support  confidence       lift  leverage  conviction  \\\n",
      "63            0.051575  0.018380    0.547486  10.615256  0.016648    2.095901   \n",
      "62            0.033571  0.018380    0.356364  10.615256  0.016648    1.501514   \n",
      "88            0.033571  0.018380    0.356364  10.615256  0.016648    1.501514   \n",
      "89            0.051575  0.018380    0.547486  10.615256  0.016648    2.095901   \n",
      "92            0.033571  0.018380    0.356364  10.615256  0.016648    1.501514   \n",
      "93            0.051575  0.018380    0.547486  10.615256  0.016648    2.095901   \n",
      "64            0.023818  0.016129    0.110540   4.640933  0.012654    1.097499   \n",
      "65            0.145911  0.016129    0.677165   4.640933  0.012654    2.645591   \n",
      "94            0.023818  0.016129    0.110540   4.640933  0.012654    1.097499   \n",
      "96            0.145911  0.016129    0.677165   4.640933  0.012654    2.645591   \n",
      "\n",
      "    zhangs_metric  \n",
      "63       0.937261  \n",
      "62       0.955053  \n",
      "88       0.955053  \n",
      "89       0.937261  \n",
      "92       0.955053  \n",
      "93       0.937261  \n",
      "64       0.918554  \n",
      "65       0.803668  \n",
      "94       0.918554  \n",
      "96       0.803668  \n"
     ]
    }
   ],
   "source": [
    "# Sort the rules by lift in descending order\n",
    "rules.sort_values('lift', ascending=False, inplace=True)\n",
    "\n",
    "# Print the top 10 rules with the highest lift\n",
    "print(rules.head(10))"
   ]
  },
  {
   "cell_type": "code",
   "execution_count": null,
   "id": "18c79626",
   "metadata": {},
   "outputs": [],
   "source": []
  }
 ],
 "metadata": {
  "kernelspec": {
   "display_name": "Python 3 (ipykernel)",
   "language": "python",
   "name": "python3"
  },
  "language_info": {
   "codemirror_mode": {
    "name": "ipython",
    "version": 3
   },
   "file_extension": ".py",
   "mimetype": "text/x-python",
   "name": "python",
   "nbconvert_exporter": "python",
   "pygments_lexer": "ipython3",
   "version": "3.10.9"
  }
 },
 "nbformat": 4,
 "nbformat_minor": 5
}
